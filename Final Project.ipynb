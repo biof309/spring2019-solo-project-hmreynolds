{
 "cells": [
  {
   "cell_type": "markdown",
   "metadata": {
    "slideshow": {
     "slide_type": "slide"
    }
   },
   "source": [
    "# Drosophila Gene Transcript Expression Visualization\n",
    "### by Hayley Reynolds"
   ]
  },
  {
   "cell_type": "markdown",
   "metadata": {
    "slideshow": {
     "slide_type": "slide"
    }
   },
   "source": [
    "## Project Description: \n",
    "#### FlyBase is an free online bioinformatics database and the primary repository of genetic and molecular data for Drosophilidae insect family. All data is available to access and includes mutant phenotypes, molecular characterization of mutant alleles, cytological maps, wild-type expression patterns, anatomical images, transgenic constructs and insertions, sequence-level gene models and molecular classification of gene product functions. This project is focused on parsing through the gene expression files and plotting the data in order to provide improved data visualization of expression levels under different stages of development and in different tissues."
   ]
  },
  {
   "cell_type": "markdown",
   "metadata": {
    "slideshow": {
     "slide_type": "slide"
    }
   },
   "source": [
    "## Current status of expression data visualization"
   ]
  },
  {
   "cell_type": "markdown",
   "metadata": {
    "slideshow": {
     "slide_type": "subslide"
    }
   },
   "source": [
    "### Stage\n",
    "![Picture1](https://user-images.githubusercontent.com/47371170/57148481-b3783680-6d97-11e9-96de-bf4b74501a75.png)\n",
    "### Tissue \n",
    "![Picture2](https://user-images.githubusercontent.com/47371170/57149451-c12ebb80-6d99-11e9-82b4-7e099aa86e83.png)"
   ]
  },
  {
   "cell_type": "markdown",
   "metadata": {
    "slideshow": {
     "slide_type": "slide"
    }
   },
   "source": [
    "## Step 1: Import relevant modules and define variables"
   ]
  },
  {
   "cell_type": "code",
   "execution_count": 1,
   "metadata": {
    "slideshow": {
     "slide_type": "subslide"
    }
   },
   "outputs": [],
   "source": [
    "import pandas as pd\n",
    "import matplotlib.pyplot as plt"
   ]
  },
  {
   "cell_type": "code",
   "execution_count": 9,
   "metadata": {
    "slideshow": {
     "slide_type": "subslide"
    }
   },
   "outputs": [],
   "source": [
    "filename = 'gene_rpkm_report_fb_2019_02.tsv'\n",
    "genename = 'FBgn0031682'\n"
   ]
  },
  {
   "cell_type": "markdown",
   "metadata": {
    "slideshow": {
     "slide_type": "slide"
    }
   },
   "source": [
    "## Step 2: Read in tsv file\n",
    "### Skip rows with text\n",
    "### tab delineate "
   ]
  },
  {
   "cell_type": "code",
   "execution_count": 3,
   "metadata": {
    "slideshow": {
     "slide_type": "subslide"
    }
   },
   "outputs": [],
   "source": [
    "df = pd.read_csv(filename, skiprows=5, sep='\\t')\n"
   ]
  },
  {
   "cell_type": "markdown",
   "metadata": {
    "slideshow": {
     "slide_type": "slide"
    }
   },
   "source": [
    "## Step 3: Drop unnecessary libraries and extract columns of interest"
   ]
  },
  {
   "cell_type": "code",
   "execution_count": 4,
   "metadata": {
    "slideshow": {
     "slide_type": "subslide"
    }
   },
   "outputs": [],
   "source": [
    "df = df.drop(df[df.Parent_library_name == 'BCM_1_RNAseq'].index)\n",
    "df = df.drop(df[df.Parent_library_name == 'modENCODE_mRNA-Seq_tissues'].index)\n",
    "df = df.drop(df[df.Parent_library_name == 'modENCODE_mRNA-Seq_treatments'].index)\n",
    "df = df.drop(df[df.Parent_library_name == 'modENCODE_mRNA-Seq_cell.B'].index)\n",
    "df = df.drop(df[df.Parent_library_name == 'Knoblich_Neural_Cell_RNA-Seq'].index)\n"
   ]
  },
  {
   "cell_type": "code",
   "execution_count": 5,
   "metadata": {
    "slideshow": {
     "slide_type": "subslide"
    }
   },
   "outputs": [],
   "source": [
    "RNAseq = df[['FBgn#', 'RNASource_name', 'RPKM_value']]"
   ]
  },
  {
   "cell_type": "markdown",
   "metadata": {
    "slideshow": {
     "slide_type": "slide"
    }
   },
   "source": [
    "## Step 4: Generate function to identify rows specific to your gene of interest"
   ]
  },
  {
   "cell_type": "code",
   "execution_count": 10,
   "metadata": {
    "slideshow": {
     "slide_type": "subslide"
    }
   },
   "outputs": [],
   "source": [
    "def find_gene(genename):\n",
    "    df = RNAseq.loc[RNAseq['FBgn#'] == genename]\n",
    "    return df\n"
   ]
  },
  {
   "cell_type": "markdown",
   "metadata": {
    "slideshow": {
     "slide_type": "slide"
    }
   },
   "source": [
    "## Step 5: Utilize function and inspect returned data frame"
   ]
  },
  {
   "cell_type": "code",
   "execution_count": 7,
   "metadata": {
    "slideshow": {
     "slide_type": "subslide"
    }
   },
   "outputs": [
    {
     "name": "stdout",
     "output_type": "stream",
     "text": [
      "<bound method NDFrame.head of               FBgn#          RNASource_name  RPKM_value\n",
      "547916  FBgn0031681         mE_mRNA_em0-2hr        37.0\n",
      "547917  FBgn0031681         mE_mRNA_em2-4hr        10.0\n",
      "547918  FBgn0031681         mE_mRNA_em4-6hr        12.0\n",
      "547919  FBgn0031681         mE_mRNA_em6-8hr        26.0\n",
      "547920  FBgn0031681        mE_mRNA_em8-10hr        33.0\n",
      "547921  FBgn0031681       mE_mRNA_em10-12hr        32.0\n",
      "547922  FBgn0031681       mE_mRNA_em12-14hr        35.0\n",
      "547923  FBgn0031681       mE_mRNA_em14-16hr        26.0\n",
      "547924  FBgn0031681       mE_mRNA_em16-18hr        36.0\n",
      "547925  FBgn0031681       mE_mRNA_em18-20hr        27.0\n",
      "547926  FBgn0031681       mE_mRNA_em20-22hr        12.0\n",
      "547927  FBgn0031681       mE_mRNA_em22-24hr        14.0\n",
      "547928  FBgn0031681              mE_mRNA_L1        15.0\n",
      "547929  FBgn0031681              mE_mRNA_L2        20.0\n",
      "547930  FBgn0031681         mE_mRNA_L3_12hr        12.0\n",
      "547931  FBgn0031681        mE_mRNA_L3_PS1-2        11.0\n",
      "547932  FBgn0031681        mE_mRNA_L3_PS3-6        21.0\n",
      "547933  FBgn0031681        mE_mRNA_L3_PS7-9        31.0\n",
      "547934  FBgn0031681             mE_mRNA_WPP        38.0\n",
      "547935  FBgn0031681              mE_mRNA_P5        29.0\n",
      "547936  FBgn0031681              mE_mRNA_P6        30.0\n",
      "547937  FBgn0031681              mE_mRNA_P8        51.0\n",
      "547938  FBgn0031681           mE_mRNA_P9-10        12.0\n",
      "547939  FBgn0031681             mE_mRNA_P15        15.0\n",
      "547940  FBgn0031681   mE_mRNA_AdF_Ecl_1days        22.0\n",
      "547941  FBgn0031681   mE_mRNA_AdF_Ecl_5days        34.0\n",
      "547942  FBgn0031681  mE_mRNA_AdF_Ecl_30days        33.0\n",
      "547943  FBgn0031681   mE_mRNA_AdM_Ecl_1days        12.0\n",
      "547944  FBgn0031681   mE_mRNA_AdM_Ecl_5days        12.0\n",
      "547945  FBgn0031681  mE_mRNA_AdM_Ecl_30days        13.0>\n"
     ]
    }
   ],
   "source": [
    "data = find_gene(genename)\n",
    "print(data.head)\n"
   ]
  },
  {
   "cell_type": "markdown",
   "metadata": {
    "slideshow": {
     "slide_type": "slide"
    }
   },
   "source": [
    "## Plot data in bar plot "
   ]
  },
  {
   "cell_type": "code",
   "execution_count": 11,
   "metadata": {
    "slideshow": {
     "slide_type": "subslide"
    }
   },
   "outputs": [
    {
     "data": {
      "image/png": "[encoded data removed]",
      "text/plain": [
       "<Figure size 432x288 with 1 Axes>"
      ]
     },
     "metadata": {
      "needs_background": "light"
     },
     "output_type": "display_data"
    }
   ],
   "source": [
    "data.plot(kind='bar', x= 'RNASource_name', y= 'RPKM_value', color='g')\n",
    "plt.xlabel('Stage')\n",
    "plt.ylabel('RPKM expression')\n",
    "plt.gca().legend(genename)\n",
    "plt.title('RNAseq expression data for various stages of Drosophila development')\n",
    "\n",
    "plt.show()\n"
   ]
  },
  {
   "cell_type": "code",
   "execution_count": null,
   "metadata": {},
   "outputs": [],
   "source": []
  }
 ],
 "metadata": {
  "celltoolbar": "Slideshow",
  "kernelspec": {
   "display_name": "Python 3",
   "language": "python",
   "name": "python3"
  },
  "language_info": {
   "codemirror_mode": {
    "name": "ipython",
    "version": 3
   },
   "file_extension": ".py",
   "mimetype": "text/x-python",
   "name": "python",
   "nbconvert_exporter": "python",
   "pygments_lexer": "ipython3",
   "version": "3.7.1"
  }
 },
 "nbformat": 4,
 "nbformat_minor": 2
}
